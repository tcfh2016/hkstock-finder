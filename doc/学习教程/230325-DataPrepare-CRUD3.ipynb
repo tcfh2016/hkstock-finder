{
 "cells": [
  {
   "attachments": {},
   "cell_type": "markdown",
   "metadata": {},
   "source": [
    "## 增加列：计算均价"
   ]
  },
  {
   "cell_type": "code",
   "execution_count": 6,
   "metadata": {},
   "outputs": [
    {
     "name": "stdout",
     "output_type": "stream",
     "text": [
      "               开盘     收盘     最高     最低      成交量           成交额    振幅   涨跌幅  \\\n",
      "日期                                                                          \n",
      "2022-01-04  37.25  35.86  37.28  35.75  1388634  5.017007e+09  4.12 -3.37   \n",
      "2022-01-05  35.95  35.07  36.20  34.63  1917219  6.737491e+09  4.38 -2.20   \n",
      "2022-01-06  34.71  33.96  34.73  33.88  1998639  6.822774e+09  2.42 -3.17   \n",
      "2022-01-07  34.19  33.75  34.24  33.68  1215737  4.126481e+09  1.65 -0.62   \n",
      "2022-01-10  33.51  33.53  33.93  33.35  1088338  3.658587e+09  1.72 -0.65   \n",
      "...           ...    ...    ...    ...      ...           ...   ...   ...   \n",
      "2023-03-20  20.24  19.98  20.44  19.92  1593085  3.215848e+09  2.56 -1.62   \n",
      "2023-03-21  20.10  20.18  20.30  19.96  1337358  2.689095e+09  1.70  1.00   \n",
      "2023-03-22  20.15  19.00  20.23  18.75  5159513  9.943232e+09  7.33 -5.85   \n",
      "2023-03-23  18.75  19.55  19.58  18.72  2833338  5.463034e+09  4.53  2.89   \n",
      "2023-03-24  19.88  20.24  20.30  19.81  3293770  6.628186e+09  2.51  3.53   \n",
      "\n",
      "             涨跌额   换手率      均价  \n",
      "日期                              \n",
      "2022-01-04 -1.25  1.62  36.515  \n",
      "2022-01-05 -0.79  2.23  35.415  \n",
      "2022-01-06 -1.11  2.33  34.305  \n",
      "2022-01-07 -0.21  1.41  33.960  \n",
      "2022-01-10 -0.22  1.27  33.640  \n",
      "...          ...   ...     ...  \n",
      "2023-03-20 -0.33  1.44  20.180  \n",
      "2023-03-21  0.20  1.21  20.130  \n",
      "2023-03-22 -1.18  4.65  19.490  \n",
      "2023-03-23  0.55  2.56  19.150  \n",
      "2023-03-24  0.69  2.97  20.055  \n",
      "\n",
      "[296 rows x 11 columns]\n"
     ]
    }
   ],
   "source": [
    "import pandas as pd\n",
    "import numpy as np\n",
    "import akshare as ak\n",
    "\n",
    "stock_zh_a_hist_df = ak.stock_zh_a_hist(symbol=\"300059\", period=\"daily\", start_date=\"20220101\")\n",
    "stock_zh_a_hist_df.set_index(['日期'], inplace=True)\n",
    "stock_zh_a_hist_df['均价'] = (stock_zh_a_hist_df['最高'] + stock_zh_a_hist_df['最低']) / 2\n",
    "\n",
    "print(stock_zh_a_hist_df)"
   ]
  },
  {
   "attachments": {},
   "cell_type": "markdown",
   "metadata": {},
   "source": [
    "## 修改行列\n",
    "\n",
    "- `rename()`函数来修改行/列标签。\n",
    "- 定位到具体元素来进行修改单元里面的值。\n",
    "- `reset_index()`重设索引，使用默认的数字索引，并将当前的行索引置为列。"
   ]
  },
  {
   "cell_type": "code",
   "execution_count": 17,
   "metadata": {},
   "outputs": [
    {
     "name": "stdout",
     "output_type": "stream",
     "text": [
      "      序号          日期     开盘     收盘     最高     最低      成交量           成交额    振幅  \\\n",
      "0      1  2022-01-04  37.25  35.86  37.28  35.75  1388634  5.017007e+09  4.12   \n",
      "1      2  2022-01-05  35.95  35.07  36.20  34.63  1917219  6.737491e+09  4.38   \n",
      "2      3  2022-01-06  34.71  33.96  34.73  33.88  1998639  6.822774e+09  2.42   \n",
      "3      4  2022-01-07  34.19  33.75  34.24  33.68  1215737  4.126481e+09  1.65   \n",
      "4      5  2022-01-10  33.51  33.53  33.93  33.35  1088338  3.658587e+09  1.72   \n",
      "..   ...         ...    ...    ...    ...    ...      ...           ...   ...   \n",
      "291  292  2023-03-20  20.24  19.98  20.44  19.92  1593085  3.215848e+09  2.56   \n",
      "292  293  2023-03-21  20.10  20.18  20.30  19.96  1337358  2.689095e+09  1.70   \n",
      "293  294  2023-03-22  20.15  19.00  20.23  18.75  5159513  9.943232e+09  7.33   \n",
      "294  295  2023-03-23  18.75  19.55  19.58  18.72  2833338  5.463034e+09  4.53   \n",
      "295  296  2023-03-24  19.88  20.24  20.30  19.81  3293770  6.628186e+09  2.51   \n",
      "\n",
      "      涨跌幅   涨跌额   换手率    mean  \n",
      "0   -3.37 -1.25  1.62  36.515  \n",
      "1   -2.20 -0.79  2.23  35.415  \n",
      "2   -3.17 -1.11  2.33  34.305  \n",
      "3   -0.62 -0.21  1.41  33.960  \n",
      "4   -0.65 -0.22  1.27  33.640  \n",
      "..    ...   ...   ...     ...  \n",
      "291 -1.62 -0.33  1.44  20.180  \n",
      "292  1.00  0.20  1.21  20.130  \n",
      "293 -5.85 -1.18  4.65  19.490  \n",
      "294  2.89  0.55  2.56  19.150  \n",
      "295  3.53  0.69  2.97  20.055  \n",
      "\n",
      "[296 rows x 13 columns]\n"
     ]
    }
   ],
   "source": [
    "\n",
    "stock_zh_a_hist_df = ak.stock_zh_a_hist(symbol=\"300059\", period=\"daily\", start_date=\"20220101\")\n",
    "stock_zh_a_hist_df.set_index(['日期'], inplace=True)\n",
    "stock_zh_a_hist_df['均价'] = (stock_zh_a_hist_df['最高'] + stock_zh_a_hist_df['最低']) / 2\n",
    "stock_zh_a_hist_df.rename(columns={\"均价\":\"mean\"}, inplace=True)\n",
    "\n",
    "#print(stock_zh_a_hist_df)\n",
    "\n",
    "stock_zh_a_hist_df.reset_index(inplace=True)\n",
    "stock_zh_a_hist_df.reset_index(inplace=True)\n",
    "stock_zh_a_hist_df['index'] = stock_zh_a_hist_df['index'] + 1\n",
    "stock_zh_a_hist_df.rename(columns={'index':'序号'}, inplace=True)\n",
    "print(stock_zh_a_hist_df)"
   ]
  },
  {
   "attachments": {},
   "cell_type": "markdown",
   "metadata": {},
   "source": [
    "## 缺失值的处理"
   ]
  },
  {
   "cell_type": "code",
   "execution_count": null,
   "metadata": {},
   "outputs": [],
   "source": [
    "- df.fillna(0, inplace=True)\n",
    "- df.fillna(method=\"ffill\")，填充上一行的值。"
   ]
  }
 ],
 "metadata": {
  "kernelspec": {
   "display_name": "Python 3",
   "language": "python",
   "name": "python3"
  },
  "language_info": {
   "codemirror_mode": {
    "name": "ipython",
    "version": 3
   },
   "file_extension": ".py",
   "mimetype": "text/x-python",
   "name": "python",
   "nbconvert_exporter": "python",
   "pygments_lexer": "ipython3",
   "version": "3.8.13"
  },
  "orig_nbformat": 4
 },
 "nbformat": 4,
 "nbformat_minor": 2
}
