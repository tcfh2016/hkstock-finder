{
 "cells": [
  {
   "attachments": {},
   "cell_type": "markdown",
   "metadata": {},
   "source": [
    "## 获取港股通标的"
   ]
  },
  {
   "cell_type": "code",
   "execution_count": 1,
   "metadata": {},
   "outputs": [
    {
     "name": "stdout",
     "output_type": "stream",
     "text": [
      "      序号     代码      名称      最新价        成交量          成交额\n",
      "0      1  01622    力高集团    1.770    7010000   11293820.0\n",
      "1      2  06968  港龙中国地产    0.770    5588000    4124730.0\n",
      "2      3  01060    阿里影业    0.670  137183311   88728286.0\n",
      "3      4  01033   中石化油服    0.630    8764014    5337129.0\n",
      "4      5  01797   新东方在线   73.700    6821583  491193584.0\n",
      "..   ...    ...     ...      ...        ...          ...\n",
      "543  544  00732    信利国际    1.410   11967600   17072762.0\n",
      "544  545  06996  德琪医药-B    5.300     525000    2803160.0\n",
      "545  546  06699    时代天使  113.500    1166000  132081643.0\n",
      "546  547  01521    方达控股    2.980    1034000    3097540.0\n",
      "547  548  02599  祥生控股集团    0.355   16674000    6063380.0\n",
      "\n",
      "[548 rows x 6 columns]\n"
     ]
    }
   ],
   "source": [
    "import akshare as ak\n",
    "\n",
    "stock_hk_ggt_components_em_df = ak.stock_hk_ggt_components_em()\n",
    "print(stock_hk_ggt_components_em_df[['序号', '代码', '名称', '最新价', '成交量', '成交额']])\n",
    "stock_hk_ggt_components_em_df.to_csv(\"ggt_stocks_20230320.csv\")\n"
   ]
  },
  {
   "attachments": {},
   "cell_type": "markdown",
   "metadata": {},
   "source": [
    "## 查询港股通标的的市盈率"
   ]
  },
  {
   "cell_type": "code",
   "execution_count": 1,
   "metadata": {},
   "outputs": [
    {
     "name": "stdout",
     "output_type": "stream",
     "text": [
      "           名称    最新价  市盈率(TTM)   市净率\n",
      "代码                                  \n",
      "01725  香港航天科技   8.03    -22.21  6.06\n",
      "09990    祖龙娱乐   5.39     -7.01  1.24\n",
      "06100    同道猎聘  12.92     23.35  1.84\n",
      "09997    康基医疗  10.28     25.82  3.23\n",
      "06978  永泰生物-B   7.74     -9.81  4.98\n",
      "...       ...    ...       ...   ...\n",
      "01952  云顶新耀-B  25.55     -5.28  1.38\n",
      "06098   碧桂园服务  18.92     12.14  1.44\n",
      "00667  中国东方教育   5.69     34.74  1.91\n",
      "01167   加科思-B   7.50    -16.92  3.26\n",
      "02678  天虹国际集团   6.67      2.19  0.49\n",
      "\n",
      "[548 rows x 4 columns]\n"
     ]
    },
    {
     "name": "stderr",
     "output_type": "stream",
     "text": [
      "/tmp/ipykernel_30370/2200632222.py:19: SettingWithCopyWarning: \n",
      "A value is trying to be set on a copy of a slice from a DataFrame.\n",
      "Try using .loc[row_indexer,col_indexer] = value instead\n",
      "\n",
      "See the caveats in the documentation: https://pandas.pydata.org/pandas-docs/stable/user_guide/indexing.html#returning-a-view-versus-a-copy\n",
      "  ggt_stocks_df['市盈率(TTM)'] = latest_pe\n",
      "/tmp/ipykernel_30370/2200632222.py:20: SettingWithCopyWarning: \n",
      "A value is trying to be set on a copy of a slice from a DataFrame.\n",
      "Try using .loc[row_indexer,col_indexer] = value instead\n",
      "\n",
      "See the caveats in the documentation: https://pandas.pydata.org/pandas-docs/stable/user_guide/indexing.html#returning-a-view-versus-a-copy\n",
      "  ggt_stocks_df['市净率'] = latest_pb\n"
     ]
    }
   ],
   "source": [
    "import akshare as ak\n",
    "\n",
    "stock_hk_ggt_components_em_df = ak.stock_hk_ggt_components_em()\n",
    "ggt_stocks_df = stock_hk_ggt_components_em_df[['代码', '名称', '最新价']]\n",
    "ggt_stocks_df.set_index(\"代码\", inplace=True)\n",
    "ggt_stocks_df = ggt_stocks_df\n",
    "\n",
    "ggt_stock_codes = ggt_stocks_df.index.values\n",
    "latest_pe = []\n",
    "latest_pb = []\n",
    "\n",
    "for code in ggt_stock_codes:\n",
    "    pe_baidu_df = ak.stock_hk_valuation_baidu(symbol=code, indicator=\"市盈率(TTM)\", period=\"近一年\")\n",
    "    latest_pe.append(pe_baidu_df['value'].iloc[-1])\n",
    "    \n",
    "    pb_baidu_df = ak.stock_hk_valuation_baidu(symbol=code, indicator=\"市净率\", period=\"近一年\")\n",
    "    latest_pb.append(pb_baidu_df['value'].iloc[-1])\n",
    "\n",
    "ggt_stocks_df['市盈率(TTM)'] = latest_pe\n",
    "ggt_stocks_df['市净率'] = latest_pb\n",
    "print(ggt_stocks_df)"
   ]
  }
 ],
 "metadata": {
  "kernelspec": {
   "display_name": "Python 3",
   "language": "python",
   "name": "python3"
  },
  "language_info": {
   "codemirror_mode": {
    "name": "ipython",
    "version": 3
   },
   "file_extension": ".py",
   "mimetype": "text/x-python",
   "name": "python",
   "nbconvert_exporter": "python",
   "pygments_lexer": "ipython3",
   "version": "3.8.13"
  },
  "orig_nbformat": 4,
  "vscode": {
   "interpreter": {
    "hash": "916dbcbb3f70747c44a77c7bcd40155683ae19c65e1c03b4aa3499c5328201f1"
   }
  }
 },
 "nbformat": 4,
 "nbformat_minor": 2
}
