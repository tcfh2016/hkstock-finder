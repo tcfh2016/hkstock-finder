{
 "cells": [
  {
   "attachments": {},
   "cell_type": "markdown",
   "metadata": {},
   "source": [
    "## 创建DataFrame\n",
    "\n",
    "常用的是通过字典来创建。"
   ]
  },
  {
   "cell_type": "code",
   "execution_count": 5,
   "metadata": {},
   "outputs": [
    {
     "name": "stdout",
     "output_type": "stream",
     "text": [
      "1.5.3\n",
      "1.24.1\n",
      "<class 'pandas.core.frame.DataFrame'>\n",
      "RangeIndex: 2 entries, 0 to 1\n",
      "Data columns (total 4 columns):\n",
      " #   Column  Non-Null Count  Dtype         \n",
      "---  ------  --------------  -----         \n",
      " 0   股票      2 non-null      string        \n",
      " 1   开盘价     2 non-null      float64       \n",
      " 2   类型      2 non-null      string        \n",
      " 3   创建时间    2 non-null      datetime64[ns]\n",
      "dtypes: datetime64[ns](1), float64(1), string(2)\n",
      "memory usage: 192.0 bytes\n"
     ]
    }
   ],
   "source": [
    "import pandas as pd\n",
    "import numpy as np\n",
    "\n",
    "print(pd.__version__)\n",
    "print(np.__version__)\n",
    "\n",
    "\n",
    "df = pd.DataFrame(\n",
    "    {\n",
    "        \"股票\": pd.Series(['600001', '000001'], dtype='string'),\n",
    "        \"开盘价\": np.array([32.3, 3000.62], dtype='float64'),\n",
    "        \"类型\": pd.Series(['股票', '指数'], dtype='string'),\n",
    "        \"创建时间\": pd.Timestamp('20230102'),\n",
    "    }\n",
    ")\n",
    "df.info()"
   ]
  },
  {
   "attachments": {},
   "cell_type": "markdown",
   "metadata": {},
   "source": [
    "## 查看数据\n",
    "\n",
    "1）数据游览，直接查看变量的值。太长的可以用Pycharm的sciview来查看。可以用`df.head(5)`, `df.tail(5)`来查看。\n",
    "\n",
    "- `pd.set_option('display.max_rows', None)`\n",
    "- `pd.set_option('display.max_columns', None)`\n",
    "- `pd.set_option('display.precision', 2)`\n",
    "- `pd.set_option('display.float_format', \"{:.2f}\".format)`\n",
    "\n",
    "2）数据描述\n",
    "\n",
    "- 使用`df.info()`来查看摘要。\n",
    "- 使用`df.describe()`打印常用的数据统计功能。"
   ]
  },
  {
   "cell_type": "markdown",
   "metadata": {},
   "source": []
  },
  {
   "cell_type": "markdown",
   "metadata": {},
   "source": []
  },
  {
   "cell_type": "code",
   "execution_count": 8,
   "metadata": {},
   "outputs": [
    {
     "name": "stdout",
     "output_type": "stream",
     "text": [
      "           日期     开盘     收盘     最高     最低  成交量      成交额   振幅    涨跌幅   涨跌额  换手率\n",
      "0  1991-04-03  49.00  49.00  49.00  49.00    1   5000.0  0.0  22.50  9.00  0.0\n",
      "1  1991-04-04  48.76  48.76  48.76  48.76    3  15000.0  0.0  -0.49 -0.24  0.0\n",
      "2  1991-04-05  48.52  48.52  48.52  48.52    2  10000.0  0.0  -0.49 -0.24  0.0\n",
      "3  1991-04-06  48.28  48.28  48.28  48.28    7  34000.0  0.0  -0.49 -0.24  0.0\n",
      "4  1991-04-08  48.04  48.04  48.04  48.04    2  10000.0  0.0  -0.50 -0.24  0.0\n"
     ]
    }
   ],
   "source": [
    "import akshare as ak\n",
    "\n",
    "stock_zh_a_hist_df = ak.stock_zh_a_hist()\n",
    "print(stock_zh_a_hist_df.head(5))"
   ]
  }
 ],
 "metadata": {
  "kernelspec": {
   "display_name": "Python 3",
   "language": "python",
   "name": "python3"
  },
  "language_info": {
   "codemirror_mode": {
    "name": "ipython",
    "version": 3
   },
   "file_extension": ".py",
   "mimetype": "text/x-python",
   "name": "python",
   "nbconvert_exporter": "python",
   "pygments_lexer": "ipython3",
   "version": "3.8.13"
  },
  "orig_nbformat": 4,
  "vscode": {
   "interpreter": {
    "hash": "916dbcbb3f70747c44a77c7bcd40155683ae19c65e1c03b4aa3499c5328201f1"
   }
  }
 },
 "nbformat": 4,
 "nbformat_minor": 2
}
