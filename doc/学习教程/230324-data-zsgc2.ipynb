{
 "cells": [
  {
   "attachments": {},
   "cell_type": "markdown",
   "metadata": {},
   "source": [
    "## 创建DataFrame\n",
    "\n",
    "常用的是通过字典来创建。"
   ]
  },
  {
   "cell_type": "code",
   "execution_count": 11,
   "metadata": {},
   "outputs": [
    {
     "name": "stdout",
     "output_type": "stream",
     "text": [
      "1.5.3\n",
      "1.24.1\n",
      "DatetimeIndex(['2010-03-19', '2010-03-22', '2010-03-23', '2010-03-24',\n",
      "               '2010-03-25', '2010-03-26', '2010-03-29', '2010-03-30',\n",
      "               '2010-03-31', '2010-04-01',\n",
      "               ...\n",
      "               '2022-12-29', '2022-12-30', '2023-01-03', '2023-01-04',\n",
      "               '2023-01-05', '2023-01-06', '2023-01-09', '2023-01-10',\n",
      "               '2023-01-11', '2023-01-12'],\n",
      "              dtype='datetime64[ns]', name='日期', length=3053, freq=None)\n",
      "Index(['开盘', '收盘', '最高', '最低', '成交量', '成交额', '振幅', '涨跌幅', '涨跌额', '换手率'], dtype='object')\n",
      "日期\n",
      "2010-03-19    61.00\n",
      "2010-03-22    61.10\n",
      "2010-03-23    63.00\n",
      "2010-03-24    65.18\n",
      "2010-03-25    68.68\n",
      "              ...  \n",
      "2023-01-06    20.30\n",
      "2023-01-09    20.54\n",
      "2023-01-10    21.04\n",
      "2023-01-11    21.14\n",
      "2023-01-12    21.04\n",
      "Name: 开盘, Length: 3053, dtype: float64\n"
     ]
    }
   ],
   "source": [
    "import pandas as pd\n",
    "import numpy as np\n",
    "import akshare as ak\n",
    "\n",
    "print(pd.__version__)\n",
    "print(np.__version__)\n",
    "\n",
    "\n",
    "stock_zh_a_hist_df = ak.stock_zh_a_hist(symbol=\"300059\", period=\"daily\", start_date=\"20100319\", end_date=\"20230112\",\n",
    "                                        adjust=\"\")\n",
    "stock_zh_a_hist_df[\"日期\"] = pd.to_datetime(stock_zh_a_hist_df[\"日期\"])\n",
    "stock_zh_a_hist_df.set_index([\"日期\"], inplace=True)\n",
    "\n",
    "print(stock_zh_a_hist_df.index)\n",
    "print(stock_zh_a_hist_df.columns)\n",
    "print(stock_zh_a_hist_df[\"开盘\"])\n"
   ]
  },
  {
   "attachments": {},
   "cell_type": "markdown",
   "metadata": {},
   "source": [
    "## 明确的筛选"
   ]
  },
  {
   "cell_type": "code",
   "execution_count": 13,
   "metadata": {},
   "outputs": [
    {
     "data": {
      "text/html": [
       "<div>\n",
       "<style scoped>\n",
       "    .dataframe tbody tr th:only-of-type {\n",
       "        vertical-align: middle;\n",
       "    }\n",
       "\n",
       "    .dataframe tbody tr th {\n",
       "        vertical-align: top;\n",
       "    }\n",
       "\n",
       "    .dataframe thead th {\n",
       "        text-align: right;\n",
       "    }\n",
       "</style>\n",
       "<table border=\"1\" class=\"dataframe\">\n",
       "  <thead>\n",
       "    <tr style=\"text-align: right;\">\n",
       "      <th></th>\n",
       "      <th>最低</th>\n",
       "    </tr>\n",
       "    <tr>\n",
       "      <th>日期</th>\n",
       "      <th></th>\n",
       "    </tr>\n",
       "  </thead>\n",
       "  <tbody>\n",
       "    <tr>\n",
       "      <th>2010-03-22</th>\n",
       "      <td>60.26</td>\n",
       "    </tr>\n",
       "  </tbody>\n",
       "</table>\n",
       "</div>"
      ],
      "text/plain": [
       "               最低\n",
       "日期               \n",
       "2010-03-22  60.26"
      ]
     },
     "execution_count": 13,
     "metadata": {},
     "output_type": "execute_result"
    }
   ],
   "source": [
    "stock_zh_a_hist_df.iloc[1:5, 3:5]"
   ]
  },
  {
   "cell_type": "markdown",
   "metadata": {},
   "source": []
  },
  {
   "cell_type": "code",
   "execution_count": 8,
   "metadata": {},
   "outputs": [
    {
     "name": "stdout",
     "output_type": "stream",
     "text": [
      "           日期     开盘     收盘     最高     最低  成交量      成交额   振幅    涨跌幅   涨跌额  换手率\n",
      "0  1991-04-03  49.00  49.00  49.00  49.00    1   5000.0  0.0  22.50  9.00  0.0\n",
      "1  1991-04-04  48.76  48.76  48.76  48.76    3  15000.0  0.0  -0.49 -0.24  0.0\n",
      "2  1991-04-05  48.52  48.52  48.52  48.52    2  10000.0  0.0  -0.49 -0.24  0.0\n",
      "3  1991-04-06  48.28  48.28  48.28  48.28    7  34000.0  0.0  -0.49 -0.24  0.0\n",
      "4  1991-04-08  48.04  48.04  48.04  48.04    2  10000.0  0.0  -0.50 -0.24  0.0\n"
     ]
    }
   ],
   "source": [
    "import akshare as ak\n",
    "\n",
    "stock_zh_a_hist_df = ak.stock_zh_a_hist()\n",
    "print(stock_zh_a_hist_df.head(5))"
   ]
  }
 ],
 "metadata": {
  "kernelspec": {
   "display_name": "Python 3",
   "language": "python",
   "name": "python3"
  },
  "language_info": {
   "codemirror_mode": {
    "name": "ipython",
    "version": 3
   },
   "file_extension": ".py",
   "mimetype": "text/x-python",
   "name": "python",
   "nbconvert_exporter": "python",
   "pygments_lexer": "ipython3",
   "version": "3.8.13"
  },
  "orig_nbformat": 4,
  "vscode": {
   "interpreter": {
    "hash": "916dbcbb3f70747c44a77c7bcd40155683ae19c65e1c03b4aa3499c5328201f1"
   }
  }
 },
 "nbformat": 4,
 "nbformat_minor": 2
}
