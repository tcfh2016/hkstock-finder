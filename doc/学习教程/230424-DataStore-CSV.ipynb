{
 "cells": [
  {
   "attachments": {},
   "cell_type": "markdown",
   "metadata": {},
   "source": [
    "## 保存csv\n",
    "\n",
    "- 索引，通过`index=False`来不存储索引。\n",
    "- 乱码，设置`encoding=\"gb2312\"`。Excel程序默认编码为“gb2312”，但是存储时默认编码为“utf-8”，因为“gb2312”不能兼容“utf-8”，所以会有乱码。修证方法为在存储的时候将编码设置为“gb2312”。"
   ]
  },
  {
   "cell_type": "code",
   "execution_count": 3,
   "metadata": {},
   "outputs": [
    {
     "name": "stdout",
     "output_type": "stream",
     "text": [
      "1.5.3\n",
      "1.8.61\n"
     ]
    }
   ],
   "source": [
    "import pandas as pd\n",
    "import akshare as ak\n",
    "\n",
    "print(pd.__version__)\n",
    "print(ak.__version__)\n",
    "\n",
    "stock_zh_a_hist_df = ak.stock_zh_a_hist(symbol=\"300059\", period=\"daily\", start_date=\"20100101\", end_date='20110101', adjust=\"qfq\")\n",
    "stock_zh_a_hist_df.to_csv(\"stock_300059_zh_a_hist_df.csv\")"
   ]
  }
 ],
 "metadata": {
  "kernelspec": {
   "display_name": "Python 3",
   "language": "python",
   "name": "python3"
  },
  "language_info": {
   "codemirror_mode": {
    "name": "ipython",
    "version": 3
   },
   "file_extension": ".py",
   "mimetype": "text/x-python",
   "name": "python",
   "nbconvert_exporter": "python",
   "pygments_lexer": "ipython3",
   "version": "3.8.13"
  },
  "orig_nbformat": 4
 },
 "nbformat": 4,
 "nbformat_minor": 2
}
