{
 "cells": [
  {
   "attachments": {},
   "cell_type": "markdown",
   "metadata": {},
   "source": [
    "## 数据校验\n",
    "\n",
    "使用新的工具`pandera`来快速实现数据校验。通过返回原来的DataFrame，否则会报错。"
   ]
  },
  {
   "cell_type": "code",
   "execution_count": 8,
   "metadata": {},
   "outputs": [
    {
     "name": "stdout",
     "output_type": "stream",
     "text": [
      "1.5.3\n",
      "0.14.5\n",
      "1.8.61\n"
     ]
    },
    {
     "data": {
      "text/plain": [
       "column1      int64\n",
       "column2    float64\n",
       "column3     object\n",
       "dtype: object"
      ]
     },
     "execution_count": 8,
     "metadata": {},
     "output_type": "execute_result"
    }
   ],
   "source": [
    "import pandas as pd\n",
    "import pandera as pa\n",
    "import akshare as ak\n",
    "\n",
    "print(pd.__version__)\n",
    "print(pa.__version__)\n",
    "print(ak.__version__)\n",
    "\n",
    "# data to validate\n",
    "df = pd.DataFrame({\n",
    "    \"column1\": [1, 4, 0, 10, 9],\n",
    "    \"column2\": [-1.3, -1.4, -2.9, -10.1, -20.4],\n",
    "    \"column3\": [\"value_1\", \"value_2\", \"value_3\", \"value_2\", \"value_1\"],\n",
    "})\n",
    "\n",
    "df.dtypes\n"
   ]
  },
  {
   "cell_type": "code",
   "execution_count": 5,
   "metadata": {},
   "outputs": [
    {
     "name": "stdout",
     "output_type": "stream",
     "text": [
      "   column1  column2  column3\n",
      "0        1     -1.3  value_1\n",
      "1        4     -1.4  value_2\n",
      "2        0     -2.9  value_3\n",
      "3       10    -10.1  value_2\n",
      "4        9    -20.4  value_1\n"
     ]
    }
   ],
   "source": [
    "# define schema\n",
    "schema = pa.DataFrameSchema({\n",
    "    \"column1\": pa.Column(int, checks=pa.Check.le(10)),\n",
    "    \"column2\": pa.Column(float, checks=pa.Check.lt(-1.2)),\n",
    "    \"column3\": pa.Column(str, checks=[\n",
    "        pa.Check.str_startswith(\"value_\"),\n",
    "        # define custom checks as functions that take a series as input and\n",
    "        # outputs a boolean or boolean Series\n",
    "        pa.Check(lambda s: s.str.split(\"_\", expand=True).shape[1] == 2)\n",
    "    ]),\n",
    "})\n",
    "\n",
    "validated_df = schema(df)\n",
    "print(validated_df)"
   ]
  },
  {
   "attachments": {},
   "cell_type": "markdown",
   "metadata": {},
   "source": [
    "## AKshare 测试\n",
    "\n",
    "快速数据类型转换：`df = df.convert_dtypes()`。"
   ]
  },
  {
   "cell_type": "code",
   "execution_count": 21,
   "metadata": {},
   "outputs": [
    {
     "name": "stdout",
     "output_type": "stream",
     "text": [
      "日期      object\n",
      "开盘     float64\n",
      "收盘     float64\n",
      "最高     float64\n",
      "最低     float64\n",
      "成交量      int64\n",
      "成交额    float64\n",
      "振幅     float64\n",
      "涨跌幅    float64\n",
      "涨跌额    float64\n",
      "换手率    float64\n",
      "dtype: object\n",
      "日期      string\n",
      "开盘     Float64\n",
      "收盘     Float64\n",
      "最高     Float64\n",
      "最低     Float64\n",
      "成交量      Int64\n",
      "成交额      Int64\n",
      "振幅     Float64\n",
      "涨跌幅    Float64\n",
      "涨跌额    Float64\n",
      "换手率    Float64\n",
      "dtype: object\n",
      "             日期    开盘    收盘    最高    最低     成交量         成交额     振幅    涨跌幅  \\\n",
      "0    2010-03-19  0.56  0.53  0.58  0.52  197373  1182393994   20.0  76.67   \n",
      "1    2010-03-22  0.56   0.6   0.6  0.55  110104   693595698   9.43  13.21   \n",
      "2    2010-03-23  0.59  0.61  0.62  0.58   85522   547135876   6.67   1.67   \n",
      "3    2010-03-24  0.61  0.66  0.69  0.61   72530   491778563  13.11    8.2   \n",
      "4    2010-03-25  0.66  0.67   0.7  0.65   60225   419010108   7.58   1.52   \n",
      "..          ...   ...   ...   ...   ...     ...         ...    ...    ...   \n",
      "184  2010-12-27  0.47  0.45  0.48  0.45    5515    29590932   6.38  -4.26   \n",
      "185  2010-12-28  0.44  0.45  0.46  0.44    3970    20754208   4.44    0.0   \n",
      "186  2010-12-29  0.46  0.46  0.46  0.45    3405    17878090   2.22   2.22   \n",
      "187  2010-12-30  0.46  0.46  0.46  0.45    4713    24877438   2.17    0.0   \n",
      "188  2010-12-31  0.46  0.46  0.47  0.45    3947    20872491   4.35    0.0   \n",
      "\n",
      "      涨跌额    换手率  \n",
      "0    0.23  70.49  \n",
      "1    0.07  39.32  \n",
      "2    0.01  30.54  \n",
      "3    0.05   25.9  \n",
      "4    0.01  21.51  \n",
      "..    ...    ...  \n",
      "184 -0.02   1.58  \n",
      "185   0.0   1.13  \n",
      "186  0.01   0.97  \n",
      "187   0.0   1.35  \n",
      "188   0.0   1.13  \n",
      "\n",
      "[189 rows x 11 columns]\n"
     ]
    }
   ],
   "source": [
    "import pandas as pd\n",
    "import pandera as pa\n",
    "import akshare as ak\n",
    "\n",
    "stock_zh_a_hist_df = ak.stock_zh_a_hist(symbol=\"300059\", period=\"daily\", start_date=\"20100101\", end_date='20110101', adjust=\"qfq\")\n",
    "print(stock_zh_a_hist_df.dtypes)\n",
    "\n",
    "stock_zh_a_hist_df = stock_zh_a_hist_df.convert_dtypes()\n",
    "print(stock_zh_a_hist_df.dtypes)\n",
    "\n",
    "schema = pa.DataFrameSchema({\n",
    "    \"日期\" : pa.Column(\"string\", checks=pa.Check.str_startswith(\"2010\")),\n",
    "    \"最低\" : pa.Column(\"float64\", checks=pa.Check.greater_than(-2)),\n",
    "})\n",
    "\n",
    "validated_data = schema.validate(stock_zh_a_hist_df)\n",
    "print(validated_data)"
   ]
  }
 ],
 "metadata": {
  "kernelspec": {
   "display_name": "Python 3",
   "language": "python",
   "name": "python3"
  },
  "language_info": {
   "codemirror_mode": {
    "name": "ipython",
    "version": 3
   },
   "file_extension": ".py",
   "mimetype": "text/x-python",
   "name": "python",
   "nbconvert_exporter": "python",
   "pygments_lexer": "ipython3",
   "version": "3.8.13"
  },
  "orig_nbformat": 4
 },
 "nbformat": 4,
 "nbformat_minor": 2
}
